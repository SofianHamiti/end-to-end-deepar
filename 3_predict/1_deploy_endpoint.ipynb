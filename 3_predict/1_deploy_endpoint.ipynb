{
 "cells": [
  {
   "cell_type": "markdown",
   "metadata": {},
   "source": [
    "# Deploy your model on a SageMaker Endpoint and predict"
   ]
  },
  {
   "cell_type": "markdown",
   "metadata": {},
   "source": [
    "<div style=\"text-align:center\">\n",
    "    <img src=\"../media/manual.png\" width=\"800\"/>\n",
    "</div>"
   ]
  },
  {
   "cell_type": "markdown",
   "metadata": {},
   "source": [
    "## Setup environment"
   ]
  },
  {
   "cell_type": "code",
   "execution_count": null,
   "metadata": {},
   "outputs": [],
   "source": [
    "import sagemaker\n",
    "from sagemaker.model import Model\n",
    "from sagemaker import get_execution_role\n",
    "from sagemaker.utils import name_from_base\n",
    "from sagemaker.predictor import Predictor\n",
    "from sagemaker.deserializers import JSONDeserializer\n",
    "from sagemaker.serializers import JSONSerializer\n",
    "\n",
    "sagemaker_session = sagemaker.Session()\n",
    "region = sagemaker.Session().boto_region_name\n",
    "role = sagemaker.get_execution_role()\n",
    "model_artefact = '<your-model-s3-path>'"
   ]
  },
  {
   "cell_type": "markdown",
   "metadata": {},
   "source": [
    "## Create endpoint and predictor"
   ]
  },
  {
   "cell_type": "code",
   "execution_count": null,
   "metadata": {},
   "outputs": [],
   "source": [
    "image_uri = sagemaker.image_uris.retrieve(framework='forecasting-deepar', region=region, version='1')\n",
    "\n",
    "model = Model(\n",
    "    model_data=model_artefact,\n",
    "    image_uri=image_uri,\n",
    "    name=name_from_base('forecasting-model'),\n",
    "    role=role\n",
    ")\n",
    "\n",
    "model.deploy(initial_instance_count=1, instance_type='ml.m5.xlarge')"
   ]
  },
  {
   "cell_type": "code",
   "execution_count": null,
   "metadata": {},
   "outputs": [],
   "source": [
    "predictor = Predictor(\n",
    "    endpoint_name='<your-endpoint-name>',\n",
    "    serializer=JSONSerializer(),\n",
    "    deserializer=JSONDeserializer()\n",
    ")"
   ]
  },
  {
   "cell_type": "markdown",
   "metadata": {},
   "source": [
    "## Make predictions and plot results"
   ]
  },
  {
   "cell_type": "code",
   "execution_count": null,
   "metadata": {},
   "outputs": [],
   "source": [
    "import numpy as np\n",
    "import pandas as pd\n",
    "import sagemaker\n",
    "import matplotlib.pyplot as plt\n",
    "\n",
    "np.random.seed(1)\n",
    "freq = 'H'\n",
    "prediction_length = 48\n",
    "context_length = 72\n",
    "t0 = '2016-01-01 00:00:00'\n",
    "data_length = 400\n",
    "num_ts = 200\n",
    "period = 24\n",
    "\n",
    "time_series = []\n",
    "for k in range(num_ts):\n",
    "    level = 10 * np.random.rand()\n",
    "    seas_amplitude = (0.1 + 0.3*np.random.rand()) * level\n",
    "    sig = 0.05 * level # noise parameter (constant in time)\n",
    "    time_ticks = np.array(range(data_length))\n",
    "    source = level + seas_amplitude*np.sin(time_ticks*(2*np.pi)/period)\n",
    "    noise = sig*np.random.randn(data_length)\n",
    "    data = source + noise\n",
    "    index = pd.date_range(start=t0, freq=freq, periods=data_length)\n",
    "    time_series.append(pd.Series(data=data, index=index))\n",
    "\n",
    "time_series_training = []\n",
    "for ts in time_series:\n",
    "    time_series_training.append(ts[:-prediction_length]) "
   ]
  },
  {
   "cell_type": "markdown",
   "metadata": {},
   "source": [
    "Now we can use the previously created `predictor` object. For simplicity, we will predict only the first few time series used for training, and compare the results with the actual data we kept in the test set."
   ]
  },
  {
   "cell_type": "code",
   "execution_count": null,
   "metadata": {},
   "outputs": [],
   "source": [
    "actuals = time_series[5]\n",
    "ts_to_predict = time_series_training[5]\n",
    "\n",
    "payload = {\n",
    "    \"instances\": [\n",
    "        {\n",
    "            \"start\": \"2016-01-01 00:00:00\", \n",
    "            \"target\": list(ts_to_predict)\n",
    "        }\n",
    "    ],\n",
    "    \"configuration\": {\n",
    "        \"output_types\": [\"quantiles\"],\n",
    "        \"quantiles\": ['0.1','0.5','0.9']\n",
    "    }\n",
    "}"
   ]
  },
  {
   "cell_type": "code",
   "execution_count": null,
   "metadata": {},
   "outputs": [],
   "source": [
    "predictions = predictor.predict(payload)['predictions'][0]['quantiles']\n",
    "p10 = predictions['0.1']\n",
    "p50 = predictions['0.5']\n",
    "p90 = predictions['0.9']"
   ]
  },
  {
   "cell_type": "code",
   "execution_count": null,
   "metadata": {},
   "outputs": [],
   "source": [
    "plt.figure(figsize=(14,6))\n",
    "plt.plot(actuals[-prediction_length-context_length:], label='actuals')\n",
    "plt.fill_between(actuals[-prediction_length:].index, p10, p90, color='y', alpha=0.5, label='80% confidence interval')\n",
    "plt.plot(actuals[-prediction_length:].index, p50, label='prediction median', color = 'red')\n",
    "plt.legend()\n",
    "plt.show()"
   ]
  },
  {
   "cell_type": "code",
   "execution_count": null,
   "metadata": {},
   "outputs": [],
   "source": []
  }
 ],
 "metadata": {
  "kernelspec": {
   "display_name": "conda_python3",
   "language": "python",
   "name": "conda_python3"
  },
  "language_info": {
   "codemirror_mode": {
    "name": "ipython",
    "version": 3
   },
   "file_extension": ".py",
   "mimetype": "text/x-python",
   "name": "python",
   "nbconvert_exporter": "python",
   "pygments_lexer": "ipython3",
   "version": "3.6.10"
  }
 },
 "nbformat": 4,
 "nbformat_minor": 4
}
